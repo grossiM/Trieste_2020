{
 "cells": [
  {
   "cell_type": "markdown",
   "metadata": {},
   "source": [
    "### Author: Michele Grossi - IBM Italy"
   ]
  },
  {
   "cell_type": "code",
   "execution_count": null,
   "metadata": {},
   "outputs": [],
   "source": [
    "# %matplotlib inline\n",
    "# Importing standard Qiskit libraries and configuring account\n",
    "from qiskit import QuantumCircuit, execute, Aer, IBMQ\n",
    "from qiskit.compiler import transpile, assemble\n",
    "from qiskit.tools.jupyter import *\n",
    "from qiskit.visualization import *\n",
    "# Loading your IBM Q account(s)\n",
    "provider = IBMQ.load_account()"
   ]
  },
  {
   "cell_type": "markdown",
   "metadata": {},
   "source": [
    "## Leveraging Provider information"
   ]
  },
  {
   "cell_type": "code",
   "execution_count": null,
   "metadata": {},
   "outputs": [],
   "source": [
    "#Create the Provider object using the IBMQ interface \n",
    "#provider = IBMQ.get_provider(hub='ibm-q-research', group='Michele-Grossi', project='main')\n",
    "provider = IBMQ.get_provider()\n",
    "#Query the list of backends available to your account\n",
    "provider.backends()"
   ]
  },
  {
   "cell_type": "code",
   "execution_count": null,
   "metadata": {},
   "outputs": [],
   "source": [
    "#Import the least_busy function\n",
    "from qiskit.providers.ibmq import least_busy\n",
    "\n",
    "#Identify the least busy devices \n",
    "#smaller than 6 qubits and not a simulator\n",
    "small_devices = provider.backends(filters=lambda x: x.configuration().n_qubits < 6 and not x.configuration().simulator)\n",
    "\n",
    "#Identify the least busy devices \n",
    "#larger than 6 qubits and not a simulator\n",
    "large_devices = provider.backends(filters=lambda x: x.configuration().n_qubits > 6 and not x.configuration().simulator)\n",
    "\n",
    "#Print the least busy devices\n",
    "print('The least busy small devices: {}'.format(least_busy(small_devices)))\n",
    "print('The least busy large devices: {}'.format(least_busy(large_devices)))"
   ]
  },
  {
   "cell_type": "code",
   "execution_count": null,
   "metadata": {},
   "outputs": [],
   "source": [
    "#Set ibmq_valencia as the backend, or whichever backend you wish\n",
    "backend = provider.get_backend('ibmq_valencia')\n",
    "#or \n",
    "backend = provider.backends.ibmq_valencia\n",
    "#Confirm this is the backend selected by querying for its name,\n",
    "backend.name()"
   ]
  },
  {
   "cell_type": "code",
   "execution_count": null,
   "metadata": {},
   "outputs": [],
   "source": [
    "#View the status of the backend\n",
    "status = backend.status()\n",
    "is_operational = status.operational\n",
    "jobs_in_queue = status.pending_jobs\n",
    "print('is_operational: {0}, jobs_in_queue: {1}'.format(is_operational,jobs_in_queue))"
   ]
  },
  {
   "cell_type": "code",
   "execution_count": null,
   "metadata": {},
   "outputs": [],
   "source": [
    "#View backend properties\n",
    "backend"
   ]
  },
  {
   "cell_type": "code",
   "execution_count": null,
   "metadata": {},
   "outputs": [],
   "source": [
    "#Run a few jobs on this backend to generate jobs on the backend\n",
    "qc = QuantumCircuit(1,1)\n",
    "qc.h(0)\n",
    "qc.measure_all()\n",
    "for i in range(0,3):\n",
    "    result = execute(qc, backend, shots=1024).result()"
   ]
  },
  {
   "cell_type": "code",
   "execution_count": null,
   "metadata": {},
   "outputs": [],
   "source": [
    "#List out the last 3 jobs we ran on the device\n",
    "for executed_job in backend.jobs(limit=3):\n",
    "    print('Job id: '\n",
    "          + str(executed_job.job_id()) + ', '  \n",
    "          + str(executed_job.status()))"
   ]
  },
  {
   "cell_type": "code",
   "execution_count": null,
   "metadata": {},
   "outputs": [],
   "source": [
    "#From the previous output of executed jobs, enter its job id.\n",
    "job = backend.retrieve_job(executed_job.job_id())\n",
    "job.status()"
   ]
  },
  {
   "cell_type": "code",
   "execution_count": null,
   "metadata": {},
   "outputs": [],
   "source": [
    "job.backend()"
   ]
  },
  {
   "cell_type": "markdown",
   "metadata": {},
   "source": [
    "### Monitoring and tracking jobs"
   ]
  },
  {
   "cell_type": "code",
   "execution_count": null,
   "metadata": {},
   "outputs": [],
   "source": [
    "#Import the Qiskit Jupyter tools \n",
    "from qiskit.tools import jupyter\n",
    "#Initialize the job tracker to automatically track all jobs\n",
    "%qiskit_job_watcher"
   ]
  },
  {
   "cell_type": "code",
   "execution_count": null,
   "metadata": {},
   "outputs": [],
   "source": [
    "backend = provider.get_backend('ibmq_athens')\n",
    "#Create a simple circuit\n",
    "qc = QuantumCircuit(1)\n",
    "qc.h(0)\n",
    "qc.measure_all()\n",
    "#Execute the circuit on the backend\n",
    "job = execute(qc, backend)"
   ]
  },
  {
   "cell_type": "code",
   "execution_count": null,
   "metadata": {},
   "outputs": [],
   "source": [
    "#Display the list of all available backends and provide \n",
    "#a brief overview of each \n",
    "%qiskit_backend_overview"
   ]
  },
  {
   "cell_type": "markdown",
   "metadata": {},
   "source": [
    "## Optimizing circuits using the Transpiler"
   ]
  },
  {
   "cell_type": "code",
   "execution_count": null,
   "metadata": {},
   "outputs": [],
   "source": []
  },
  {
   "cell_type": "code",
   "execution_count": null,
   "metadata": {},
   "outputs": [],
   "source": [
    "#Basic Toffoli gate,\n",
    "qc = QuantumCircuit(3)\n",
    "qc.ccx(0,1,2)\n",
    "qc.draw()"
   ]
  },
  {
   "cell_type": "code",
   "execution_count": null,
   "metadata": {},
   "outputs": [],
   "source": [
    "qc_decomposed = qc.decompose()\n",
    "qc_decomposed.draw()"
   ]
  },
  {
   "cell_type": "code",
   "execution_count": null,
   "metadata": {},
   "outputs": [],
   "source": [
    "#Basic circuit with a single and multi-qubit gates\n",
    "qc = QuantumCircuit(4)\n",
    "qc.h(0)\n",
    "qc.cx(0,1)\n",
    "qc.cx(0,2)\n",
    "qc.cx(0,3)\n",
    "qc.draw()"
   ]
  },
  {
   "cell_type": "code",
   "execution_count": null,
   "metadata": {},
   "outputs": [],
   "source": [
    "#Print the depth of both inital and decomposed circuit\n",
    "print('Initial circuit depth: ', qc.depth())\n",
    "print('Decomposed circuit depth: ', qc_decomposed.depth())\n",
    "#Get the number of operators in initial circuit\n",
    "print('Initial circuit operation count: ', qc.count_ops())\n",
    "#Get the number of operators in decomposed circuit\n",
    "print('Decomposed circuit operation count: ', qc_decomposed.count_ops())"
   ]
  },
  {
   "cell_type": "code",
   "execution_count": null,
   "metadata": {},
   "outputs": [],
   "source": [
    "# Get the backend device: ibmq_rome \n",
    "backend_athens = provider.get_backend('ibmq_athens')\n",
    "# Launch backend viewer of ibmq_rome\n",
    "backend_athens"
   ]
  },
  {
   "cell_type": "code",
   "execution_count": null,
   "metadata": {},
   "outputs": [],
   "source": [
    "# Get the backend device: ibmq_16_melbourne\n",
    "backend_melbourne = provider.get_backend('ibmq_16_melbourne')\n",
    "# Launch backend viewer of ibmq_16_melbourne\n",
    "backend_melbourne"
   ]
  },
  {
   "cell_type": "code",
   "execution_count": null,
   "metadata": {},
   "outputs": [],
   "source": [
    "# Visualize the coupling directional map between the qubits \n",
    "plot_gate_map(backend_athens, plot_directed=True)"
   ]
  },
  {
   "cell_type": "code",
   "execution_count": null,
   "metadata": {},
   "outputs": [],
   "source": [
    "# Quantum circuit with a single and multi-qubit gates\n",
    "qc = QuantumCircuit(4)\n",
    "qc.h(0)\n",
    "qc.cx(0,1)\n",
    "qc.cx(0,2)\n",
    "qc.cx(0,3)\n",
    "qc.draw()"
   ]
  },
  {
   "cell_type": "code",
   "execution_count": null,
   "metadata": {},
   "outputs": [],
   "source": [
    "# Transpile the circuit with an optimization level = 0\n",
    "qc_athens_0 = transpile(qc, backend_athens, seed_transpiler=10258, optimization_level=0)\n",
    "# Print out the depth of the circuit\n",
    "print('Depth:', qc_athens_0.depth())\n",
    "# Plot the resulting layout of the quantum circuit after Layout\n",
    "plot_circuit_layout(qc_athens_0, backend_athens)"
   ]
  },
  {
   "cell_type": "code",
   "execution_count": null,
   "metadata": {},
   "outputs": [],
   "source": [
    "qc_athens_0.draw()"
   ]
  },
  {
   "cell_type": "code",
   "execution_count": null,
   "metadata": {},
   "outputs": [],
   "source": [
    "# View the transpiled circuit with an optimization level = 0\n",
    "qc_melbourne_0 = transpile(qc, backend_melbourne, seed_transpiler=10258, optimization_level=0)\n",
    "print('Depth:', qc_melbourne_0.depth())\n",
    "plot_circuit_layout(qc_melbourne_0, backend_melbourne)"
   ]
  },
  {
   "cell_type": "code",
   "execution_count": null,
   "metadata": {},
   "outputs": [],
   "source": [
    "qc_melbourne_0.draw()"
   ]
  },
  {
   "cell_type": "code",
   "execution_count": null,
   "metadata": {},
   "outputs": [],
   "source": [
    "# Transpile the circuit with the optimization level = 3\n",
    "qc_transpiled_athens = transpile(qc, backend_athens, optimization_level=3)\n",
    "# Print the depth of the transpiled circuit\n",
    "print('Depth:', qc_transpiled_athens.depth())\n",
    "# Print the number of operations of the transpiled circuit\n",
    "print('Ops count: ', qc_transpiled_athens.count_ops())\n",
    "# Plot the layout mapping of the transpiled circuit"
   ]
  },
  {
   "cell_type": "code",
   "execution_count": null,
   "metadata": {},
   "outputs": [],
   "source": [
    "qc_transpiled_athens.draw()"
   ]
  },
  {
   "cell_type": "code",
   "execution_count": null,
   "metadata": {},
   "outputs": [],
   "source": [
    "# Transpile the quantum circuit with the optimization level = 3\n",
    "qc_transpiled_melbourne = transpile(qc, backend_melbourne, optimization_level=3)\n",
    "# Get the depth and operation count of the transpiled circuit. \n",
    "print('Depth:', qc_transpiled_melbourne.depth())\n",
    "print('Ops count: ', qc_transpiled_melbourne.count_ops())\n",
    "# Print the circuit layout\n",
    "plot_circuit_layout(qc_transpiled_melbourne, backend_melbourne)"
   ]
  },
  {
   "cell_type": "code",
   "execution_count": null,
   "metadata": {},
   "outputs": [],
   "source": [
    "qc_transpiled_melbourne.draw()"
   ]
  },
  {
   "cell_type": "code",
   "execution_count": null,
   "metadata": {},
   "outputs": [],
   "source": [
    "# View the backend coupling map, displayed as CNOTs (Control-Target)\n",
    "backend = provider.get_backend('ibmqx2')\n",
    "# Extract the coupling map from the backend\n",
    "ibmqx2_coupling_map = backend.configuration().coupling_map\n",
    "# List out the extracted coupling map\n",
    "ibmqx2_coupling_map"
   ]
  },
  {
   "cell_type": "code",
   "execution_count": null,
   "metadata": {},
   "outputs": [],
   "source": [
    "# Transpile the custom circuit using only the coupling map. \n",
    "# Set the backend to None so it will force using the coupling map provided.\n",
    "qc_custom = transpile(qc, backend=None, coupling_map=ibmqx2_coupling_map)\n",
    "# Draw the resulting custom topology circuit.\n",
    "qc_custom.draw(output='mpl')"
   ]
  },
  {
   "cell_type": "code",
   "execution_count": null,
   "metadata": {},
   "outputs": [],
   "source": [
    "# Create our own coupling map (custom topology)\n",
    "custom_linear_topology = [[0,1],[1,2],[2,3],[3,4]]\n",
    "# Set the coupling map to our custom linear topology\n",
    "qc_custom = transpile(qc, backend=None, coupling_map=custom_linear_topology)\n",
    "# Draw the resulting circuit.\n",
    "qc_custom.draw(output='mpl')"
   ]
  },
  {
   "cell_type": "markdown",
   "metadata": {},
   "source": [
    "The result from the preceding circuit code is clearly not ideal. The circuit required many gates and is quite deep, which increases the risk of having noisy results. This is a good illustration of the importance of optimizers, which handle many of these potential issues. It's no surprise why there is a lot of research in identifying better ways to optimize circuits to avoid inefficient and noisy circuits"
   ]
  },
  {
   "cell_type": "markdown",
   "metadata": {},
   "source": [
    "## Understanding passes and pass managers"
   ]
  },
  {
   "cell_type": "markdown",
   "metadata": {},
   "source": [
    "Now that we have a better understanding of passes and how some of them help the transpiler generate optimal circuits, we just need to conclude with the pass manager. The pass manager is what allows the passes to communicate with each other, and also schedules which passes should execute first."
   ]
  },
  {
   "cell_type": "markdown",
   "metadata": {},
   "source": [
    "\n",
    "Passes are generally used to transform circuits so that they are set up to perform as optimally as desired. There are five general types of passes that transform circuits:\n",
    "\n",
    "-- Layout Selection determines how the qubit layout mapping will align with the selected backend configuration.\n",
    "-- Routing maps the placement of swap gates onto the circuit based on the selected swap mapping type\n",
    "-- Basis Change offers various ways to decompose or unroll the gates down to the basis gates of the backend or using the circuit's decomposition rules.\n",
    "-- Optimizations optimizes the gates themselves by either removing redundant gates\n",
    "-- Circuit Analysis provides circuit information, such as the depth, width, number of operations, and other details about the circuit,\n",
    "-- Additional passes are those that offer some other form of optimization, such as the various check maps, which check whether the layout of the CNOT gates are in the direction stated in the coupling maps and rearrange the directions if needed.\n",
    "\n",
    "[L.Loredo, M.Grossi, Learn Quantum Computing with Python and IBM Q Experience: A Hands-On Introduction to Quantum Computing and Writing Your Own Quantum Programs with Python, https://books.google.it/books?id=jKy3zQEACAAJ ]\n"
   ]
  },
  {
   "cell_type": "code",
   "execution_count": null,
   "metadata": {},
   "outputs": [],
   "source": [
    "# Import the transpiler passes object\n",
    "from qiskit.transpiler import passes\n",
    "# List out all the passes available\n",
    "print(dir(passes))"
   ]
  },
  {
   "cell_type": "code",
   "execution_count": null,
   "metadata": {},
   "outputs": [],
   "source": [
    "# Import the PassManager and a few Passes\n",
    "from qiskit.transpiler import PassManager, CouplingMap\n",
    "from qiskit.transpiler.passes import TrivialLayout, BasicSwap\n",
    "# Create a BasicSwap based on the ibmqx2 coupling map we used earlier\n",
    "basic_swap = BasicSwap(CouplingMap(ibmqx2_coupling_map))\n",
    "#Add the BasicSwap to the PassManager\n",
    "pm = PassManager(basic_swap)\n",
    "# Run the PassManager and draw the results\n",
    "new_qc = pm.run(qc)\n",
    "new_qc.draw(output='mpl')"
   ]
  },
  {
   "cell_type": "code",
   "execution_count": null,
   "metadata": {},
   "outputs": [],
   "source": [
    "# Create a TrivialLayout based on the ibmqx2 coupling map\n",
    "trivial = TrivialLayout(CouplingMap(ibmqx2_coupling_map))\n",
    "# Append the TrivialLayout to the PassManager\n",
    "pm.append(trivial)\n",
    "# Run the PassManager and draw the resulting circuit\n",
    "tv_qc = pm.run(qc)\n",
    "tv_qc.draw(output='mpl')"
   ]
  },
  {
   "cell_type": "markdown",
   "metadata": {},
   "source": [
    "## Visualizing and enhancing circuit graphs"
   ]
  },
  {
   "cell_type": "code",
   "execution_count": null,
   "metadata": {},
   "outputs": [],
   "source": [
    "# Define the style to render the circuit and components\n",
    "style = {'backgroundcolor': 'lightblue','gatefacecolor': 'white', 'gatetextcolor': 'black', 'fontsize': 14}# Draw the mpl with the specified style\n",
    "qc.draw(output='mpl', style=style)"
   ]
  },
  {
   "cell_type": "markdown",
   "metadata": {},
   "source": [
    "### Directed Acyclic Graph of a circuit\n",
    "If you break down a circuit into composites, you can then render each composite as a DAG"
   ]
  },
  {
   "cell_type": "code",
   "execution_count": null,
   "metadata": {},
   "outputs": [],
   "source": [
    "# Import the Circuit to DAG converter\n",
    "from qiskit.converters import circuit_to_dag\n",
    "# Import the DAG drawer\n",
    "from qiskit.tools.visualization import dag_drawer\n",
    "# Convert the circuit into a DAG\n",
    "dag = circuit_to_dag(qc)\n",
    "# Draw the DAG of the circuit\n",
    "dag_drawer(dag)"
   ]
  },
  {
   "cell_type": "markdown",
   "metadata": {},
   "source": [
    "The DAG can help illustrate the flow and expected paths of the circuit. For example, the preceding graph starts at the top with the qubits in green, then following the graph, we see that each qubit is operated upon by the specified operation represented by the nodes and the applied qubits by the edge label between nodes. The graph terminates at the end in red, where the measurement applied on the qubit is mapped to the specified classical bit, represented by the parameter values."
   ]
  },
  {
   "cell_type": "code",
   "execution_count": null,
   "metadata": {},
   "outputs": [],
   "source": [
    "import qiskit.tools.jupyter\n",
    "%qiskit_version_table\n",
    "%qiskit_copyright"
   ]
  },
  {
   "cell_type": "code",
   "execution_count": null,
   "metadata": {},
   "outputs": [],
   "source": []
  }
 ],
 "metadata": {
  "kernelspec": {
   "display_name": "Python 3",
   "language": "python",
   "name": "python3"
  },
  "language_info": {
   "codemirror_mode": {
    "name": "ipython",
    "version": 3
   },
   "file_extension": ".py",
   "mimetype": "text/x-python",
   "name": "python",
   "nbconvert_exporter": "python",
   "pygments_lexer": "ipython3",
   "version": "3.7.8"
  }
 },
 "nbformat": 4,
 "nbformat_minor": 4
}
