{
 "cells": [
  {
   "cell_type": "code",
   "execution_count": null,
   "metadata": {},
   "outputs": [],
   "source": [
    "!git clone https://github.com/grossiM/Trieste_2020"
   ]
  },
  {
   "cell_type": "code",
   "execution_count": null,
   "metadata": {},
   "outputs": [],
   "source": [
    "from IPython.display import Image, display\n",
    "Image(\"Trieste_2020/ryoko.png\", width=\"70\")"
   ]
  },
  {
   "cell_type": "markdown",
   "metadata": {},
   "source": [
    "# Message from Dr. Ryoko\n",
    "\"*Hi! Here's another exercise you can work on this week. <br/>\n",
    "It focuses on a famous quantum algorithm known as Grover's algorithm. <br/>\n",
    "This should give you the basic knowledge necessary to tackle more advanced problems in the coming weeks. Good luck!*\""
   ]
  },
  {
   "cell_type": "markdown",
   "metadata": {},
   "source": [
    "# Week1-B: Grover's Algorithm"
   ]
  },
  {
   "cell_type": "markdown",
   "metadata": {},
   "source": [
    "Let us learn about a well-known quantum algorithm called Grover's algorithm. <br/> Also, **there is a learning exercise for you to tackle on your own at the end of this tutorial.** <br/>\n",
    "\n",
    "You may have heard that one of the advantages a quantum computer has over a classical computer is its superior speed searching databases.<br/>\n",
    "Grover's algorithm demonstrates this capability. This algorithm can speed up an unstructured search problem quadratically (a classical computation requires on the order of $N$ steps to search $N$ entries problem, while a quantum computer requires just $\\sqrt{N}$), but its uses extend beyond that; it can serve as a general trick or subroutine to obtain quadratic run time improvements for a variety of other algorithms. This is called the amplitude amplification trick.\n",
    "\n",
    "This page will walk you through the description of the search problem, building the oracle - the circuit representation of our search problem, and implementing the complete Grover algorithm in Qiskit."
   ]
  },
  {
   "cell_type": "markdown",
   "metadata": {},
   "source": [
    "# Unstructured search\n",
    "Suppose you are given a large list of $N$ items. Among these items there is one item with a unique property that we wish to locate; we will call this one the winner, ${w}$. Think of each item in the list as a box of a particular item. Say all items in the list have grey colored items except the winning item."
   ]
  },
  {
   "cell_type": "code",
   "execution_count": null,
   "metadata": {},
   "outputs": [],
   "source": [
    "from IPython.display import Image, display\n",
    "Image('Trieste_2020/unstructured_search.png', width=\"700\")"
   ]
  },
  {
   "cell_type": "markdown",
   "metadata": {},
   "source": [
    "To find the winning item -- the marked item -- using classical computation, one would have to check on average $N/2$ of these boxes, and in the worst case, all $N$ of them. On a quantum computer, however, we can find the marked item in roughly $\\sqrt{N}$ steps with Grover's amplitude amplification trick. A quadratic speedup is indeed a substantial time-saver for finding marked items in long lists. Additionally, the algorithm does not use the list's internal structure, which makes it generic; this is why it immediately provides a quadratic quantum speed-up for many classical problems."
   ]
  },
  {
   "cell_type": "markdown",
   "metadata": {},
   "source": [
    "# Creating an oracle that marks the winning item\n",
    "How will the list items be provided to the quantum computer? A common way to encode such a list is in terms of a function $f$ that returns $f(x)=0$ for all unmarked items $x$, and $f(w)=1$ for the winner. To use a quantum computer for this problem, we must provide the items in superposition to this function, so we encode the function into a unitary matrix called an **oracle**. First, we choose a binary encoding of the items $x,w \\in \\{0,1\\}^n$ so that $N=2^n$. This way, we can represent it in terms of qubits on a quantum computer. We then define the oracle matrix $U_w$ to act on any of the simple, standard basis states $|x\\rangle$ by $U_w |x\\rangle = (-1)^{f(x)}|x\\rangle$\n",
    "\n",
    "We see that if $x$ is an unmarked item, the oracle does nothing to the state. However, when we apply the oracle to the basis state $|w\\rangle$, it maps $U_w |w\\rangle = -|w\\rangle$. Geometrically, this unitary matrix corresponds to a reflection about the origin for the marked item in an $N=2^n$-dimensional vector space."
   ]
  },
  {
   "cell_type": "code",
   "execution_count": null,
   "metadata": {},
   "outputs": [],
   "source": [
    "Image(\"Trieste_2020/oracle.png\", width=\"700\")"
   ]
  },
  {
   "cell_type": "markdown",
   "metadata": {},
   "source": [
    "# Amplitude amplification\n",
    "So how does the algorithm work? Before looking at the list of items, we have no idea where the marked item is. Therefore, any guess of its location is as good as any other. You may have heard the term superposition. This can be expressed in terms of a uniform superposition: <br/>\n",
    "$$|s\\rangle = \\frac{1}{\\sqrt N}\\sum_{x=0}^{N-1} |x\\rangle $$\n",
    "\n",
    "If at this point we were to measure in the standard basis $|x\\rangle$, this superposition would collapse to any one of the basis states with the same probability of $\\frac{1}{N} = \\frac{1}{2^{n}} $. Our chances of guessing the right value $|w\\rangle$ is therefore $\\frac{1}{2^{n}}$, as could be expected. Hence, on average we would need to try about $N=2^{n}$ times to guess the correct item."
   ]
  },
  {
   "cell_type": "markdown",
   "metadata": {},
   "source": [
    "Now, let's enter the procedure called amplitude amplification, which is how a quantum computer significantly enhances the probability of finding the correct item. This procedure stretches out (amplifies) the amplitude of the marked item, which shrinks the other items' amplitudes, so that measuring the final state will return the right item with near-certainty.\n",
    "\n",
    "This algorithm has a nice geometrical interpretation in terms of two reflections, which generate a rotation in a two-dimensional plane. The only two special states we need to consider are the winner $|w\\rangle$ and the uniform superposition $|s\\rangle$ . These two vectors span a two-dimensional plane in the vector space $\\mathbb C^{N}$ . They are not quite perpendicular because $|w\\rangle$ occurs in the superposition with amplitude $N^{-1/2}$ as well.\n",
    "\n",
    "We can, however, introduce an additional state $|s'\\rangle$ that is in the span of these two vectors, is perpendicular to $|w\\rangle$, and is obtained from $|s\\rangle$ by removing $|w\\rangle$ and rescaling.\n"
   ]
  },
  {
   "cell_type": "markdown",
   "metadata": {},
   "source": [
    "**Step 0** :\n",
    "The amplitude amplification procedure starts out in the uniform superposition $|s\\rangle$ .  The uniform superposition is easily constructed from $|s\\rangle = H^{\\otimes n}|0\\rangle^{n}$. At $t=0$, the initial state is $|\\psi_{0}\\rangle = |s\\rangle$."
   ]
  },
  {
   "cell_type": "code",
   "execution_count": null,
   "metadata": {},
   "outputs": [],
   "source": [
    "Image(\"Trieste_2020/step0.png\", width=\"700\")"
   ]
  },
  {
   "cell_type": "markdown",
   "metadata": {},
   "source": [
    "**Step 1** :\n",
    "We apply the oracle reflection $U_{w}$ to the state $U_{w}|\\psi_{t}\\rangle = |\\psi_{t'}\\rangle$."
   ]
  },
  {
   "cell_type": "code",
   "execution_count": null,
   "metadata": {},
   "outputs": [],
   "source": [
    "Image(\"Trieste_2020/step1.png\", width=\"700\")"
   ]
  },
  {
   "cell_type": "markdown",
   "metadata": {},
   "source": [
    "Geometrically, this corresponds to a reflection of the state $|\\psi_{t}\\rangle$ about  $|s'\\rangle$ . This transformation means that the amplitude in front of the $|w\\rangle$ state becomes negative, which in turn means that the average amplitude has been lowered. (Note how the dotted line in the right graph is decreasing).\n",
    "\n",
    "**Step 2**:\n",
    "We now apply an additional reflection $U_{s}$ about the state $|s\\rangle$: $U_{s} = 2|s\\rangle \\langle s| - 1 $ . This transformation maps the state to $U_{s}|\\psi_{t'}\\rangle$ and completes the transformation $|\\psi_{t+1}\\rangle = U_{s}U_{w}|\\psi_{t}\\rangle$ .（Note how the amplitude at $|w\\rangle$ is amplified in the right graph)."
   ]
  },
  {
   "cell_type": "code",
   "execution_count": null,
   "metadata": {},
   "outputs": [],
   "source": [
    "Image(\"Trieste_2020/step2.png\", width=\"700\")"
   ]
  },
  {
   "cell_type": "markdown",
   "metadata": {},
   "source": [
    "Two reflections always correspond to a rotation. The transformation $ U_{s}U_{w}$ rotates the initial state $|s\\rangle$ closer toward the winner $|w\\rangle$ . Notice the left graph in Step 2. The action of the reflection $U_{s}$ in the amplitude bar diagram can be understood as a reflection about the average amplitude. Since the average amplitude has been lowered by the first reflection, this transformation boosts the negative amplitude of $|w\\rangle$ to roughly three times its original value, while it decreases the other amplitudes. We then go to **Step １** to repeat the application. This procedure will be repeated several times to zero in on the winner. \n",
    "\n",
    "After $t$ steps, the state will have transformed to $|\\psi_{t}\\rangle = (U_{s}U_{w})^{t}|\\psi_{0}\\rangle$."
   ]
  },
  {
   "cell_type": "markdown",
   "metadata": {},
   "source": [
    "How many times do we need to apply the rotation? It turns out that roughly $\\sqrt N$ rotations suffice. This becomes clear when looking at the amplitudes of the state $|\\psi_{t}\\rangle$ . We can see that the amplitude of $|w\\rangle$ grows linearly with the number of applications（$ \\sim tN^{1/2}$）. However, since we are dealing with amplitudes and not probabilities, the vector space's dimension enters as a square root. Therefore it is the amplitude, and not just the probability, that is being amplified in this procedure.\n",
    "\n",
    "If there are multiple solutions, $M$, it can be shown that roughly $\\sqrt{(N/M)}$ rotations will suffice."
   ]
  },
  {
   "cell_type": "code",
   "execution_count": null,
   "metadata": {},
   "outputs": [],
   "source": [
    "Image(\"Trieste_2020/grover_algorithm.png\", width=\"700\")"
   ]
  },
  {
   "cell_type": "markdown",
   "metadata": {},
   "source": [
    "### Qiskit implementation: Grover's algorithm using two qubits\n",
    "Now, let's impement Grover's algorithm using Qiskit. In this example, we will use two qubits to find the state $|11\\rangle$.\n",
    "\n",
    "First we prepare our environment."
   ]
  },
  {
   "cell_type": "code",
   "execution_count": null,
   "metadata": {},
   "outputs": [],
   "source": [
    "#initialization\n",
    "import matplotlib.pyplot as plt\n",
    "%matplotlib inline\n",
    "import numpy as np\n",
    "\n",
    "# importing Qiskit\n",
    "from qiskit import IBMQ, BasicAer\n",
    "from qiskit.providers.ibmq import least_busy\n",
    "from qiskit import QuantumCircuit, ClassicalRegister, QuantumRegister, execute\n",
    "\n",
    "# import basic plot tools\n",
    "from qiskit.tools.visualization import plot_histogram"
   ]
  },
  {
   "cell_type": "markdown",
   "metadata": {},
   "source": [
    "As we have seen in Step1, let us create a phase oracle to mark the state $|11\\rangle$."
   ]
  },
  {
   "cell_type": "code",
   "execution_count": null,
   "metadata": {},
   "outputs": [],
   "source": [
    "def phase_oracle(circuit, register):\n",
    "    circuit.cz(register[0], register[1])\n",
    "\n",
    "qr = QuantumRegister(2)\n",
    "oracleCircuit = QuantumCircuit(qr)\n",
    "phase_oracle(oracleCircuit, qr)\n",
    "oracleCircuit.draw(output=\"mpl\")"
   ]
  },
  {
   "cell_type": "markdown",
   "metadata": {},
   "source": [
    "Next, we set up the circuit for inversion about the average as we saw in Step 2. This circuit is sometimes called an amplitude ampification module or a diffusion circuit."
   ]
  },
  {
   "cell_type": "code",
   "execution_count": null,
   "metadata": {},
   "outputs": [],
   "source": [
    "def inversion_about_average(circuit, register):\n",
    "    \"\"\"Apply inversion about the average step of Grover's algorithm.\"\"\"\n",
    "    circuit.h(register)\n",
    "    circuit.x(register)\n",
    "    circuit.h(register[1])\n",
    "    circuit.cx(register[0], register[1])\n",
    "    circuit.h(register[1])\n",
    "    circuit.x(register)\n",
    "    circuit.h(register)"
   ]
  },
  {
   "cell_type": "code",
   "execution_count": null,
   "metadata": {},
   "outputs": [],
   "source": [
    "qAverage = QuantumCircuit(qr)\n",
    "inversion_about_average(qAverage, qr)\n",
    "qAverage.draw(output='mpl')"
   ]
  },
  {
   "cell_type": "markdown",
   "metadata": {},
   "source": [
    "Now we put the pieces together, with the creation of a uniform superposition at the start of the circuit and a measurement at the end. Note that since there is one solution and four possibilities, we will only need to run one iteration."
   ]
  },
  {
   "cell_type": "code",
   "execution_count": null,
   "metadata": {},
   "outputs": [],
   "source": [
    "qr = QuantumRegister(2)\n",
    "cr = ClassicalRegister(2)\n",
    "\n",
    "groverCircuit = QuantumCircuit(qr,cr)\n",
    "groverCircuit.h(qr)\n",
    "\n",
    "phase_oracle(groverCircuit, qr)\n",
    "inversion_about_average(groverCircuit, qr)\n",
    "\n",
    "groverCircuit.measure(qr,cr)\n",
    "groverCircuit.draw(output=\"mpl\")"
   ]
  },
  {
   "cell_type": "markdown",
   "metadata": {},
   "source": [
    "### Experiment with simulators\n",
    "We now run the above circuit on the simulator."
   ]
  },
  {
   "cell_type": "code",
   "execution_count": null,
   "metadata": {},
   "outputs": [],
   "source": [
    "backend = BasicAer.get_backend('qasm_simulator')\n",
    "shots = 1024\n",
    "results = execute(groverCircuit, backend=backend, shots=shots).result()\n",
    "answer = results.get_counts()\n",
    "plot_histogram(answer)"
   ]
  },
  {
   "cell_type": "markdown",
   "metadata": {},
   "source": [
    "As we can see, the algorithm discovers our marked states."
   ]
  },
  {
   "cell_type": "markdown",
   "metadata": {},
   "source": [
    "### Experiment with real devices\n",
    "We can run the circuit on the real device as shown below."
   ]
  },
  {
   "cell_type": "code",
   "execution_count": null,
   "metadata": {},
   "outputs": [],
   "source": [
    "# Load our saved IBMQ accounts and get the least busy backend device\n",
    "\n",
    "IBMQ.load_account()\n",
    "provider = IBMQ.get_provider(hub='ibm-q')\n",
    "backend_lb = least_busy(provider.backends(filters=lambda b: b.configuration().n_qubits >= 3 and\n",
    "                                   not b.configuration().simulator and b.status().operational==True))\n",
    "print(\"Least busy backend: \", backend_lb)"
   ]
  },
  {
   "cell_type": "code",
   "execution_count": null,
   "metadata": {},
   "outputs": [],
   "source": [
    "# Run our circuit on the least busy backend. Monitor the execution of the job in the queue\n",
    "from qiskit.tools.monitor import job_monitor\n",
    "\n",
    "backend = backend_lb\n",
    "shots = 1024\n",
    "job_exp = execute(groverCircuit, backend=backend, shots=shots)\n",
    "\n",
    "job_monitor(job_exp, interval = 2)"
   ]
  },
  {
   "cell_type": "code",
   "execution_count": null,
   "metadata": {},
   "outputs": [],
   "source": [
    "# get the results from the computation\n",
    "results = job_exp.result()\n",
    "answer = results.get_counts(groverCircuit)\n",
    "plot_histogram(answer)"
   ]
  },
  {
   "cell_type": "markdown",
   "metadata": {},
   "source": [
    "### Qiskit implementation: 2 qubit Grover's algorithm using auxiliary bits\n",
    "We are going to find the state $|11\\rangle$ just like in the previous example, but this time we will use an auxiliary bit. Auxiliary bits let you work with more qubits or implement more complex oracles.\n",
    "\n",
    "Let us prepare the environment first."
   ]
  },
  {
   "cell_type": "code",
   "execution_count": null,
   "metadata": {},
   "outputs": [],
   "source": [
    "# Initialization\n",
    "import matplotlib.pyplot as plt\n",
    "%matplotlib inline\n",
    "import numpy as np\n",
    "\n",
    "# Importing Qiskit\n",
    "from qiskit import IBMQ, BasicAer\n",
    "from qiskit.providers.ibmq import least_busy\n",
    "from qiskit import QuantumCircuit, ClassicalRegister, QuantumRegister, execute\n",
    "\n",
    "# Import basic plot tools\n",
    "from qiskit.tools.visualization import plot_histogram"
   ]
  },
  {
   "cell_type": "markdown",
   "metadata": {},
   "source": [
    "We will create an oracle that will flip the phase of the answer we are looking for ( in this case $|11\\rangle$ ). This time, using the auxiliary bit to make the target bit's phase flip when the input state is $|11\\rangle$ . Note that in order to make this phase flip work, you need to prepare the auxiliary bit to be $|1\\rangle$ by using an x gate."
   ]
  },
  {
   "cell_type": "code",
   "execution_count": null,
   "metadata": {},
   "outputs": [],
   "source": [
    "def phase_oracle(circuit, register,oracle_register):\n",
    "    circuit.h(oracle_register)\n",
    "    circuit.ccx(register[0], register[1],oracle_register)\n",
    "    circuit.h(oracle_register)\n",
    "    \n",
    "qr = QuantumRegister(3)\n",
    "oracleCircuit = QuantumCircuit(qr)\n",
    "oracleCircuit.x(qr[2])\n",
    "phase_oracle(oracleCircuit, qr,qr[2])\n",
    "oracleCircuit.draw(output=\"mpl\")"
   ]
  },
  {
   "cell_type": "markdown",
   "metadata": {},
   "source": [
    "Next, we prepare the amplitude amplification module/diffusion circuit. Make sure that the circuit does not act on the auxiliary bit."
   ]
  },
  {
   "cell_type": "code",
   "execution_count": null,
   "metadata": {},
   "outputs": [],
   "source": [
    "def inversion_about_average(circuit, register):\n",
    "    \"\"\"Apply inversion about the average step of Grover's algorithm.\"\"\"\n",
    "    circuit.h(register)\n",
    "    circuit.x(register)\n",
    "    circuit.h(register[1])\n",
    "    circuit.cx(register[0], register[1])\n",
    "    circuit.h(register[1])\n",
    "    circuit.x(register)\n",
    "    circuit.h(register)"
   ]
  },
  {
   "cell_type": "code",
   "execution_count": null,
   "metadata": {},
   "outputs": [],
   "source": [
    "qAverage = QuantumCircuit(qr)\n",
    "inversion_about_average(qAverage, qr[0:2])\n",
    "qAverage.draw(output='mpl')"
   ]
  },
  {
   "cell_type": "markdown",
   "metadata": {},
   "source": [
    "Just like we did in the previous example without using the auxiliary bit, we first create a uniform superposition by using the Hadamard (H gate) , incorporate the transformation and then take measurement. Again, make sure that you do not apply the H gate to your auxiliary bit."
   ]
  },
  {
   "cell_type": "code",
   "execution_count": null,
   "metadata": {},
   "outputs": [],
   "source": [
    "qr = QuantumRegister(3)\n",
    "cr = ClassicalRegister(3)\n",
    "\n",
    "groverCircuit = QuantumCircuit(qr,cr)\n",
    "groverCircuit.h(qr[0:2])\n",
    "groverCircuit.x(qr[2])\n",
    "\n",
    "phase_oracle(groverCircuit, qr,qr[2])\n",
    "inversion_about_average(groverCircuit, qr[0:2])\n",
    "\n",
    "groverCircuit.measure(qr,cr)\n",
    "groverCircuit.draw(output=\"mpl\")"
   ]
  },
  {
   "cell_type": "markdown",
   "metadata": {},
   "source": [
    "### Experiment with simulators\n",
    "We now run this circuit on a simulator. Make sure to specify 'qasm_simulator' as your backend. "
   ]
  },
  {
   "cell_type": "code",
   "execution_count": null,
   "metadata": {},
   "outputs": [],
   "source": [
    "backend = BasicAer.get_backend('qasm_simulator')\n",
    "shots = 1024\n",
    "results = execute(groverCircuit, backend=backend, shots=shots).result()\n",
    "answer = results.get_counts()\n",
    "plot_histogram(answer)"
   ]
  },
  {
   "cell_type": "markdown",
   "metadata": {},
   "source": [
    "We can see how the state $|11\\rangle$ is being amplified just like we saw previously without using the auxiliary bit. You can ignore the 1 in the highest order, as that comes from the auxiliary bit. "
   ]
  },
  {
   "cell_type": "markdown",
   "metadata": {},
   "source": [
    "## Tips: Number of iterations\n",
    "I mentioned that the number of Grover algorithm iterations to be performed before the solution is fully amplified is approximately $\\sqrt{N}$. Let's go further and think about the number of times the solution is amplified the most.\n",
    "\n",
    "For example, when running Grover's algorithm on a database with $N = 2^4$, the probabilities obtained by changing the number of iterations are as follows."
   ]
  },
  {
   "cell_type": "code",
   "execution_count": null,
   "metadata": {},
   "outputs": [],
   "source": [
    "backend = BasicAer.get_backend('qasm_simulator')\n",
    "prob_of_ans = []\n",
    "\n",
    "for x in range(12):\n",
    "    database = QuantumRegister(4)\n",
    "    oracle = QuantumRegister(1)\n",
    "    auxiliary = QuantumRegister(2) \n",
    "    cr = ClassicalRegister(4)\n",
    "    qc = QuantumCircuit(database, oracle, auxiliary, cr)\n",
    "    qc.h(database[:])\n",
    "    qc.x(oracle[0])\n",
    "    qc.h(oracle[0])\n",
    "\n",
    "\n",
    "    for j in range(x):\n",
    "    # oracle_4q\n",
    "        # search 7: 0111 \n",
    "        qc.x(database[0])\n",
    "        qc.mct(database[:], oracle[0], auxiliary[:], mode='basic') \n",
    "        qc.x(database[0])\n",
    "\n",
    "    # diffusion_4q\n",
    "        qc.h(database[:])\n",
    "        qc.x(database[:])\n",
    "        qc.h(database[3])\n",
    "        qc.mct(database[0:3], database[3], auxiliary[:], mode='basic')\n",
    "        qc.h(database[3])\n",
    "        qc.x(database[:])\n",
    "        qc.h(database[:])\n",
    "\n",
    "\n",
    "    qc.h(oracle[0])\n",
    "    qc.x(oracle[0])\n",
    "    qc.measure(database,cr)\n",
    "    # Change the endian \n",
    "    qc = qc.reverse_bits() \n",
    "    \n",
    "    job = execute(qc, backend=backend, shots=1000, seed_simulator=12345, backend_options={\"fusion_enable\":True})\n",
    "    result = job.result()\n",
    "    count = result.get_counts()\n",
    "    answer = count['0111']\n",
    "    prob_of_ans.append(answer)"
   ]
  },
  {
   "cell_type": "code",
   "execution_count": null,
   "metadata": {},
   "outputs": [],
   "source": [
    "import numpy as np\n",
    "import matplotlib.pyplot as plt\n",
    "iteration = [i for i in range(12)]\n",
    "correct = prob_of_ans\n",
    "plt.bar(iteration, correct)\n",
    "plt.xlabel('# of iteration')\n",
    "plt.ylabel('# of times the solution was obtained')"
   ]
  },
  {
   "cell_type": "markdown",
   "metadata": {},
   "source": [
    "# Learning Exercise I-B\n",
    "Find the number of iterations with the largest amplitude when you run the Grover's algorithm with one solution in a database with $N = 2 ^ 7$. As shown above, change the number of iterations and check the amplification. The answer must be an integer.\n",
    "\n",
    "Hint: Fewer than 15 times. "
   ]
  },
  {
   "cell_type": "code",
   "execution_count": null,
   "metadata": {},
   "outputs": [],
   "source": [
    "# Change ans of following code and check your answer.\n",
    "# ans must be an interger.\n",
    "\n",
    "from qc_grader import grade_ex1b\n",
    "grade_ex1b(ans)"
   ]
  },
  {
   "cell_type": "code",
   "execution_count": null,
   "metadata": {},
   "outputs": [],
   "source": [
    "# Change ans of following code and submit it.\n",
    "# ans must be interger.\n",
    "\n",
    "from qc_grader import submit_ex1b\n",
    "submit_ex1b(ans)"
   ]
  }
 ],
 "metadata": {
  "kernelspec": {
   "display_name": "Python 3",
   "language": "python",
   "name": "python3"
  },
  "language_info": {
   "codemirror_mode": {
    "name": "ipython",
    "version": 3
   },
   "file_extension": ".py",
   "mimetype": "text/x-python",
   "name": "python",
   "nbconvert_exporter": "python",
   "pygments_lexer": "ipython3",
   "version": "3.7.8"
  }
 },
 "nbformat": 4,
 "nbformat_minor": 4
}
