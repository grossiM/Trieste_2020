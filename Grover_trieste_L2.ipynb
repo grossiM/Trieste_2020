{
 "cells": [
  {
   "cell_type": "code",
   "execution_count": null,
   "metadata": {},
   "outputs": [],
   "source": [
    "%matplotlib inline\n",
    "# Importing standard Qiskit libraries and configuring account\n",
    "from qiskit import QuantumCircuit, execute, Aer, IBMQ\n",
    "from qiskit.compiler import transpile, assemble\n",
    "from qiskit.tools.jupyter import *\n",
    "from qiskit.visualization import *\n",
    "# Loading your IBM Q account(s)\n",
    "provider = IBMQ.load_account()"
   ]
  },
  {
   "cell_type": "markdown",
   "metadata": {},
   "source": [
    "## Implementing the Logical Expression Oracle\n",
    "Logical expressions are commonly used to describe problems, particularly those that have some constraints. These logical expressions can be used to construct a circuit and execute it on various algorithms. Let's begin with a simple problem.\n",
    "\n",
    "Imagine you need to organize your Saturday conference call with your friends: Marco, Carlo, Robert and Lara.\n",
    "\n",
    "Here is the problem you have been asked to solve:\n",
    "- in the last period Marco Carlo do not get along very well;\n",
    "- Lara and Robert become very close and they are fine together;\n",
    "- because of that, Marco and Robert broke up.\n",
    "\n",
    "What you need to do is determine which combination of your friends is best for you to for the call, and let it goes with minimal issues based on their history together."
   ]
  },
  {
   "cell_type": "markdown",
   "metadata": {},
   "source": [
    "To solve this, let's write this out as a logical expression:\n",
    "1. We'll map each friend as A = Marco, B = Carlo, C = Robert, and D = Lara.\n",
    "2. Next, we'll create a logical expression using logical operators to illustrate the constraints. To start, we know that Marco and Carlo do not get along, so this we can represent as follows,\n",
    "where ^ indicates XOR:\n",
    "#### (A^B)\n",
    "3. Next, we know that Robert and Lara get along fine together, so we can represent them as follows:\n",
    "#### (C&D)\n",
    "4. Finally, we know that Marco and Robert might not be open to see each other, so we will represent them as follows:\n",
    "#### ~(A&C)\n",
    "5. By putting these all together, our complete logical expression for this example is as follows:\n",
    "### (A^B)&(C&D)&~(A&C)\n"
   ]
  },
  {
   "cell_type": "markdown",
   "metadata": {},
   "source": [
    "Now that we have defined our logical expression, let's create an Oracle on the logical expression so that we can use **Grover's algorithm** to search for the optimal result"
   ]
  },
  {
   "cell_type": "code",
   "execution_count": null,
   "metadata": {},
   "outputs": [],
   "source": [
    "# Import the necessary modules and classes\n",
    "from qiskit import BasicAer\n",
    "from qiskit.aqua import QuantumInstance\n",
    "from qiskit.aqua.algorithms import Grover\n",
    "from qiskit.aqua.components.oracles import LogicalExpressionOracle, TruthTableOracle, CustomCircuitOracle"
   ]
  },
  {
   "cell_type": "code",
   "execution_count": null,
   "metadata": {},
   "outputs": [],
   "source": [
    "# State the SAT problem into a logical expression\n",
    "expression = '((Marco ^ Carlo) & (Robert & Lara) & ~(Marco & Robert))'"
   ]
  },
  {
   "cell_type": "code",
   "execution_count": null,
   "metadata": {},
   "outputs": [],
   "source": [
    " # Create an Oracle based on the Logical Expression\n",
    "oracle = LogicalExpressionOracle(expression)"
   ]
  },
  {
   "cell_type": "code",
   "execution_count": null,
   "metadata": {},
   "outputs": [],
   "source": [
    "# Construct the circuit from the oracle\n",
    "quantum_circuit = oracle.construct_circuit()\n",
    "quantum_circuit.draw('mpl')"
   ]
  },
  {
   "cell_type": "code",
   "execution_count": null,
   "metadata": {},
   "outputs": [],
   "source": [
    "# Generate a quantum instance from a simulator\n",
    "quantum_instance = QuantumInstance(BasicAer.get_backend('qasm_simulator'), shots=1024)"
   ]
  },
  {
   "cell_type": "code",
   "execution_count": null,
   "metadata": {},
   "outputs": [],
   "source": [
    "# Create the Grover algorithm with the Logical Expression\n",
    "# Oracle\n",
    "grover = Grover(oracle)"
   ]
  },
  {
   "cell_type": "code",
   "execution_count": null,
   "metadata": {},
   "outputs": [],
   "source": [
    "# Run the Grover algorithm\n",
    "result = grover.run(quantum_instance)\n",
    "# Print the top measured result\n",
    "print('Top result:', result['top_measurement']) # Plot all measured results plot_histogram(result['measurement'])"
   ]
  },
  {
   "cell_type": "markdown",
   "metadata": {},
   "source": [
    "The preceding code results in the following output. Keep in mind that the qubit at position 0 is represented by the least significant bit (far right).\n",
    "\n",
    "This means that the result, 1011, is equal to Lara=1, Robert=0, Carlo=1, Marco=1"
   ]
  },
  {
   "cell_type": "code",
   "execution_count": null,
   "metadata": {},
   "outputs": [],
   "source": [
    "plot_histogram(result.measurement, title='Call with Friends', bar_labels = True)"
   ]
  },
  {
   "cell_type": "markdown",
   "metadata": {},
   "source": [
    "## Experiment with Real Device"
   ]
  },
  {
   "cell_type": "code",
   "execution_count": null,
   "metadata": {},
   "outputs": [],
   "source": [
    "from qiskit.providers.ibmq import least_busy\n",
    "backend = least_busy(provider.backends(filters=lambda x: x.configuration().n_qubits >= quantum_circuit.num_qubits and \n",
    "                                   not x.configuration().simulator and x.status().operational==True))\n",
    "print(\"least busy backend: \", backend)\n"
   ]
  },
  {
   "cell_type": "code",
   "execution_count": null,
   "metadata": {},
   "outputs": [],
   "source": [
    "from qiskit.compiler import transpile\n",
    "\n",
    "# transpile the circuit for ibmq_16_melbourne\n",
    "grover_compiled = transpile(result['circuit'], backend=backend, optimization_level=3)\n",
    "\n",
    "print('gates = ', grover_compiled.count_ops())\n",
    "print('depth = ', grover_compiled.depth())\n"
   ]
  },
  {
   "cell_type": "code",
   "execution_count": null,
   "metadata": {},
   "outputs": [],
   "source": [
    "grover_compiled.draw()"
   ]
  },
  {
   "cell_type": "code",
   "execution_count": null,
   "metadata": {},
   "outputs": [],
   "source": [
    "# Generate a quantum instance for the HW\n",
    "quantum_instance_hw = QuantumInstance(backend, shots=1024, optimization_level=3)"
   ]
  },
  {
   "cell_type": "markdown",
   "metadata": {},
   "source": [
    "\n",
    "\n",
    "The number of gates needed is far above the limits regarding decoherence time of the current near-term quantum computers. It is a challenge to design a quantum circuit for Grover search to solve satisfiability and other optimization problems."
   ]
  },
  {
   "cell_type": "code",
   "execution_count": null,
   "metadata": {},
   "outputs": [],
   "source": [
    "%qiskit_job_watcher"
   ]
  },
  {
   "cell_type": "code",
   "execution_count": null,
   "metadata": {},
   "outputs": [],
   "source": [
    "from qiskit.tools.monitor import job_monitor\n",
    "job = grover.run(quantum_instance_hw)\n",
    "#job = execute(grover_circuit, backend=backend, shots=1024, optimization_level=3)\n",
    "job_monitor(job, interval = 2)"
   ]
  },
  {
   "cell_type": "code",
   "execution_count": null,
   "metadata": {},
   "outputs": [],
   "source": []
  }
 ],
 "metadata": {
  "kernelspec": {
   "display_name": "Python 3",
   "language": "python",
   "name": "python3"
  },
  "language_info": {
   "codemirror_mode": {
    "name": "ipython",
    "version": 3
   },
   "file_extension": ".py",
   "mimetype": "text/x-python",
   "name": "python",
   "nbconvert_exporter": "python",
   "pygments_lexer": "ipython3",
   "version": "3.7.8"
  }
 },
 "nbformat": 4,
 "nbformat_minor": 4
}
